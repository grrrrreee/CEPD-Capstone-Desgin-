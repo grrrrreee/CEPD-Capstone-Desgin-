{
 "cells": [
  {
   "cell_type": "code",
   "execution_count": 1,
   "metadata": {},
   "outputs": [],
   "source": [
    "import pandas as pd\n",
    "import numpy as np\n",
    "import matplotlib.pyplot as plt\n",
    "import csv"
   ]
  },
  {
   "cell_type": "code",
   "execution_count": 2,
   "metadata": {},
   "outputs": [],
   "source": [
    "%matplotlib inline"
   ]
  },
  {
   "cell_type": "code",
   "execution_count": 3,
   "metadata": {},
   "outputs": [],
   "source": [
    "data = pd.read_excel('final_version.xlsx', header=None)"
   ]
  },
  {
   "cell_type": "code",
   "execution_count": 4,
   "metadata": {},
   "outputs": [],
   "source": [
    "data = data.to_numpy()[1:]"
   ]
  },
  {
   "cell_type": "code",
   "execution_count": 5,
   "metadata": {},
   "outputs": [],
   "source": [
    "idx = 0"
   ]
  },
  {
   "cell_type": "code",
   "execution_count": 6,
   "metadata": {},
   "outputs": [],
   "source": [
    "X, Y = [], []"
   ]
  },
  {
   "cell_type": "code",
   "execution_count": 7,
   "metadata": {},
   "outputs": [],
   "source": [
    "while True:\n",
    "    if idx+15 >= len(data):\n",
    "        break\n",
    "    X.append(data[idx:idx+15])\n",
    "    Y.append(data[idx+15])\n",
    "    idx += 1"
   ]
  },
  {
   "cell_type": "code",
   "execution_count": 8,
   "metadata": {},
   "outputs": [],
   "source": [
    "X = np.array(X)\n",
    "Y = np.array(Y)"
   ]
  },
  {
   "cell_type": "code",
   "execution_count": 49,
   "metadata": {},
   "outputs": [
    {
     "name": "stdout",
     "output_type": "stream",
     "text": [
      "  system\r\n",
      "* 3.5.2 (set by /Users/bagminseo/.pyenv/version)\r\n"
     ]
    }
   ],
   "source": [
    "!pyenv versions"
   ]
  },
  {
   "cell_type": "code",
   "execution_count": null,
   "metadata": {},
   "outputs": [],
   "source": []
  },
  {
   "cell_type": "code",
   "execution_count": null,
   "metadata": {
    "scrolled": false
   },
   "outputs": [],
   "source": []
  },
  {
   "cell_type": "code",
   "execution_count": null,
   "metadata": {},
   "outputs": [],
   "source": []
  },
  {
   "cell_type": "code",
   "execution_count": null,
   "metadata": {},
   "outputs": [],
   "source": []
  },
  {
   "cell_type": "code",
   "execution_count": null,
   "metadata": {},
   "outputs": [],
   "source": []
  },
  {
   "cell_type": "code",
   "execution_count": null,
   "metadata": {},
   "outputs": [],
   "source": []
  },
  {
   "cell_type": "code",
   "execution_count": null,
   "metadata": {},
   "outputs": [],
   "source": []
  },
  {
   "cell_type": "code",
   "execution_count": 9,
   "metadata": {},
   "outputs": [],
   "source": [
    "# \"\"\"norm\"\"\""
   ]
  },
  {
   "cell_type": "code",
   "execution_count": 10,
   "metadata": {},
   "outputs": [],
   "source": [
    "# tot = np.concatenate((np.array(X[0]), Y))"
   ]
  },
  {
   "cell_type": "code",
   "execution_count": 11,
   "metadata": {},
   "outputs": [],
   "source": [
    "# def scaler(L, mode=0, min_val=None, max_val=None):\n",
    "#     L = np.array(L)\n",
    "    \n",
    "#     if min_val == None:\n",
    "#         min_val = L.min()\n",
    "#     if max_val == None:\n",
    "#         max_val = L.max()\n",
    "    \n",
    "#     if mode == 0:\n",
    "#         return (L - min_val) / (max_val - min_val), min_val, max_val\n",
    "#     elif mode == 1:\n",
    "#         avg_val = (min_val + max_val) / 2.\n",
    "#         return (L - avg_val) / (max_val - avg_val), min_val, max_val\n",
    "#     else:\n",
    "#         return None, min_val, max_val\n",
    "    "
   ]
  },
  {
   "cell_type": "code",
   "execution_count": null,
   "metadata": {},
   "outputs": [],
   "source": []
  },
  {
   "cell_type": "code",
   "execution_count": 12,
   "metadata": {},
   "outputs": [],
   "source": [
    "# min_year, max_year =   min(tot[:, 0]), max(tot[:, 0])\n",
    "# min_month, max_month = min(tot[:, 1]), max(tot[:, 1])\n",
    "# min_day, max_day =     min(tot[:, 2]), max(tot[:, 2])\n",
    "# min_temp, max_temp =   min(tot[:, 3]), max(tot[:, 3])\n",
    "# min_rain, max_rain =   min(tot[:, 4]), max(tot[:, 4])"
   ]
  },
  {
   "cell_type": "code",
   "execution_count": null,
   "metadata": {},
   "outputs": [],
   "source": []
  },
  {
   "cell_type": "code",
   "execution_count": null,
   "metadata": {},
   "outputs": [],
   "source": []
  },
  {
   "cell_type": "code",
   "execution_count": null,
   "metadata": {},
   "outputs": [],
   "source": []
  },
  {
   "cell_type": "code",
   "execution_count": null,
   "metadata": {},
   "outputs": [],
   "source": []
  },
  {
   "cell_type": "code",
   "execution_count": 13,
   "metadata": {},
   "outputs": [],
   "source": [
    "# X_year,  _, _ = scaler(X[:, :, 0].reshape(-1).tolist(), min_val=min_year,  max_val=max_year)\n",
    "# X_month, _, _ = scaler(X[:, :, 1].reshape(-1).tolist(), min_val=min_month, max_val=max_month)\n",
    "# X_day,   _, _ = scaler(X[:, :, 2].reshape(-1).tolist(), min_val=min_day,   max_val=max_day)\n",
    "# X_temp,  _, _ = scaler(X[:, :, 3].reshape(-1).tolist(), min_val=min_temp,  max_val=max_temp, mode=1)\n",
    "# X_rain,  _, _ = scaler(X[:, :, 4].reshape(-1).tolist(), min_val=min_rain,  max_val=max_rain)"
   ]
  },
  {
   "cell_type": "code",
   "execution_count": null,
   "metadata": {},
   "outputs": [],
   "source": []
  },
  {
   "cell_type": "code",
   "execution_count": null,
   "metadata": {},
   "outputs": [],
   "source": []
  },
  {
   "cell_type": "code",
   "execution_count": null,
   "metadata": {},
   "outputs": [],
   "source": []
  },
  {
   "cell_type": "code",
   "execution_count": 14,
   "metadata": {},
   "outputs": [],
   "source": [
    "# Y_year,  _, _ = scaler(Y[:, 0].reshape(-1).tolist(), min_val=min_year,  max_val=max_year)\n",
    "# Y_month, _, _ = scaler(Y[:, 1].reshape(-1).tolist(), min_val=min_month, max_val=max_month)\n",
    "# Y_day,   _, _ = scaler(Y[:, 2].reshape(-1).tolist(), min_val=min_day,   max_val=max_day)\n",
    "# Y_temp,  _, _ = scaler(Y[:, 3].reshape(-1).tolist(), min_val=min_temp,  max_val=max_temp, mode=1)\n",
    "# Y_rain,  _, _ = scaler(Y[:, 4].reshape(-1).tolist(), min_val=min_rain,  max_val=max_rain)"
   ]
  },
  {
   "cell_type": "code",
   "execution_count": null,
   "metadata": {},
   "outputs": [],
   "source": []
  },
  {
   "cell_type": "code",
   "execution_count": null,
   "metadata": {},
   "outputs": [],
   "source": []
  },
  {
   "cell_type": "code",
   "execution_count": 15,
   "metadata": {},
   "outputs": [],
   "source": [
    "# X = np.concatenate((\n",
    "#     X_year.reshape(-1, 15, 1),\n",
    "#     X_month.reshape(-1, 15, 1),\n",
    "#     X_day.reshape(-1, 15, 1),\n",
    "#     X_temp.reshape(-1, 15, 1),\n",
    "#     X_rain.reshape(-1, 15, 1)), axis=-1)"
   ]
  },
  {
   "cell_type": "code",
   "execution_count": 16,
   "metadata": {},
   "outputs": [],
   "source": [
    "# Y = np.concatenate((\n",
    "#     Y_year.reshape(-1, 1),\n",
    "#     Y_month.reshape(-1, 1),\n",
    "#     Y_day.reshape(-1, 1),\n",
    "#     Y_temp.reshape(-1, 1),\n",
    "#     Y_rain.reshape(-1, 1)), axis=-1)"
   ]
  },
  {
   "cell_type": "code",
   "execution_count": null,
   "metadata": {},
   "outputs": [],
   "source": []
  },
  {
   "cell_type": "code",
   "execution_count": null,
   "metadata": {},
   "outputs": [],
   "source": []
  },
  {
   "cell_type": "code",
   "execution_count": 17,
   "metadata": {},
   "outputs": [],
   "source": [
    "from sklearn.model_selection import train_test_split\n",
    "# X_train, X_tmp, Y_train, Y_tmp = train_test_split(X, Y, test_size=0.2)\n",
    "# X_test, X_val, Y_test, Y_val = train_test_split(X_tmp, Y_tmp, test_size=0.5)\n",
    "X_train, X_test, Y_train, Y_test = train_test_split(X, Y, test_size=0.2)"
   ]
  },
  {
   "cell_type": "code",
   "execution_count": 18,
   "metadata": {},
   "outputs": [],
   "source": [
    "X_train = np.array(X_train)[:, :, [1, 3, 4]]\n",
    "Y_train = np.array(Y_train)[:, -1].reshape(-1, 1)\n",
    "\n",
    "X_test = np.array(X_test)[:, :, [1, 3, 4]]\n",
    "Y_test = np.array(Y_test)[:, -1].reshape(-1, 1)"
   ]
  },
  {
   "cell_type": "code",
   "execution_count": 19,
   "metadata": {},
   "outputs": [
    {
     "data": {
      "text/plain": [
       "'extend'"
      ]
     },
     "execution_count": 19,
     "metadata": {},
     "output_type": "execute_result"
    }
   ],
   "source": [
    "\"\"\"extend\"\"\""
   ]
  },
  {
   "cell_type": "code",
   "execution_count": null,
   "metadata": {},
   "outputs": [],
   "source": []
  },
  {
   "cell_type": "code",
   "execution_count": null,
   "metadata": {},
   "outputs": [],
   "source": []
  },
  {
   "cell_type": "code",
   "execution_count": 20,
   "metadata": {},
   "outputs": [],
   "source": [
    "X_nonzero = []\n",
    "Y_nonzero = []\n",
    "for i, y in enumerate(Y_train):\n",
    "    if y[-1] != 0.0:\n",
    "        X_nonzero.append(X_train[i])\n",
    "        Y_nonzero.append(y)"
   ]
  },
  {
   "cell_type": "code",
   "execution_count": null,
   "metadata": {},
   "outputs": [],
   "source": []
  },
  {
   "cell_type": "code",
   "execution_count": null,
   "metadata": {},
   "outputs": [],
   "source": []
  },
  {
   "cell_type": "code",
   "execution_count": 21,
   "metadata": {},
   "outputs": [],
   "source": [
    "X_train = np.concatenate((X_train, X_nonzero, X_nonzero, X_nonzero))"
   ]
  },
  {
   "cell_type": "code",
   "execution_count": null,
   "metadata": {},
   "outputs": [],
   "source": []
  },
  {
   "cell_type": "code",
   "execution_count": 22,
   "metadata": {},
   "outputs": [],
   "source": [
    "Y_train = np.concatenate((Y_train, Y_nonzero, Y_nonzero, Y_nonzero))"
   ]
  },
  {
   "cell_type": "code",
   "execution_count": null,
   "metadata": {},
   "outputs": [],
   "source": []
  },
  {
   "cell_type": "code",
   "execution_count": null,
   "metadata": {},
   "outputs": [],
   "source": []
  },
  {
   "cell_type": "code",
   "execution_count": null,
   "metadata": {},
   "outputs": [],
   "source": []
  },
  {
   "cell_type": "code",
   "execution_count": 23,
   "metadata": {},
   "outputs": [
    {
     "name": "stderr",
     "output_type": "stream",
     "text": [
      "Using TensorFlow backend.\n"
     ]
    }
   ],
   "source": [
    "import keras\n",
    "from keras.layers import Input, Dense, LSTM, Dropout\n",
    "from keras.models import Model"
   ]
  },
  {
   "cell_type": "code",
   "execution_count": 24,
   "metadata": {},
   "outputs": [],
   "source": [
    "def build_model(input_shape):\n",
    "    x = Input(shape=input_shape)\n",
    "\n",
    "    # h = LSTM(20, return_sequences=True, activation='tanh', kernel_initializer='he_normal')(x)\n",
    "    # h = LSTM(20, return_sequences=True, activation='tanh', kernel_initializer='he_normal')(h)\n",
    "    # h = LSTM(20, activation='tanh', kernel_initializer='he_normal')(h)\n",
    "    h = LSTM(80, activation='tanh', kernel_initializer='he_normal')(x)  # 128\n",
    "    \n",
    "    y = Dense(1, activation='relu')(h)\n",
    "    return Model(inputs=x, outputs=y)\n"
   ]
  },
  {
   "cell_type": "code",
   "execution_count": 25,
   "metadata": {},
   "outputs": [
    {
     "name": "stdout",
     "output_type": "stream",
     "text": [
      "Model: \"model_1\"\n",
      "_________________________________________________________________\n",
      "Layer (type)                 Output Shape              Param #   \n",
      "=================================================================\n",
      "input_1 (InputLayer)         (None, 15, 3)             0         \n",
      "_________________________________________________________________\n",
      "lstm_1 (LSTM)                (None, 80)                26880     \n",
      "_________________________________________________________________\n",
      "dense_1 (Dense)              (None, 1)                 81        \n",
      "=================================================================\n",
      "Total params: 26,961\n",
      "Trainable params: 26,961\n",
      "Non-trainable params: 0\n",
      "_________________________________________________________________\n"
     ]
    }
   ],
   "source": [
    "model = build_model((15, 3))\n",
    "model.summary()"
   ]
  },
  {
   "cell_type": "code",
   "execution_count": 26,
   "metadata": {},
   "outputs": [],
   "source": [
    "from keras.optimizers import Adam, RMSprop"
   ]
  },
  {
   "cell_type": "code",
   "execution_count": 27,
   "metadata": {},
   "outputs": [],
   "source": [
    "model.compile(loss='mse', optimizer=Adam(), metrics=['mae'])"
   ]
  },
  {
   "cell_type": "code",
   "execution_count": null,
   "metadata": {},
   "outputs": [],
   "source": []
  },
  {
   "cell_type": "code",
   "execution_count": null,
   "metadata": {},
   "outputs": [],
   "source": []
  },
  {
   "cell_type": "code",
   "execution_count": 28,
   "metadata": {},
   "outputs": [],
   "source": [
    "from keras.callbacks import EarlyStopping, ModelCheckpoint"
   ]
  },
  {
   "cell_type": "code",
   "execution_count": 29,
   "metadata": {},
   "outputs": [],
   "source": [
    "es = EarlyStopping(monitor='val_mae', mode='min', verbose=1, patience=20)\n",
    "mc = ModelCheckpoint('best_model.h5', monitor='val_mae', mode='min', save_best_only=True)"
   ]
  },
  {
   "cell_type": "code",
   "execution_count": 30,
   "metadata": {},
   "outputs": [
    {
     "name": "stdout",
     "output_type": "stream",
     "text": [
      "Train on 26548 samples, validate on 6638 samples\n",
      "Epoch 1/20\n",
      " - 4s - loss: 336.3477 - mae: 7.4469 - val_loss: 601.2058 - val_mae: 11.2513\n",
      "Epoch 2/20\n",
      " - 3s - loss: 308.0169 - mae: 8.0282 - val_loss: 557.4937 - val_mae: 11.2988\n",
      "Epoch 3/20\n",
      " - 3s - loss: 295.6917 - mae: 8.1188 - val_loss: 542.4472 - val_mae: 11.2713\n",
      "Epoch 4/20\n",
      " - 4s - loss: 289.4256 - mae: 8.1183 - val_loss: 529.5293 - val_mae: 11.3026\n",
      "Epoch 5/20\n",
      " - 3s - loss: 285.9349 - mae: 8.1230 - val_loss: 521.5242 - val_mae: 11.3358\n",
      "Epoch 6/20\n",
      " - 3s - loss: 283.1225 - mae: 8.1138 - val_loss: 517.7663 - val_mae: 11.2979\n",
      "Epoch 7/20\n",
      " - 3s - loss: 281.2551 - mae: 8.0966 - val_loss: 512.6035 - val_mae: 11.3085\n",
      "Epoch 8/20\n",
      " - 3s - loss: 279.6522 - mae: 8.0853 - val_loss: 509.4981 - val_mae: 11.3015\n",
      "Epoch 9/20\n",
      " - 3s - loss: 278.3391 - mae: 8.0433 - val_loss: 506.7883 - val_mae: 11.2381\n",
      "Epoch 10/20\n",
      " - 3s - loss: 276.9926 - mae: 8.0005 - val_loss: 503.0489 - val_mae: 11.2404\n",
      "Epoch 11/20\n",
      " - 3s - loss: 275.8484 - mae: 8.0074 - val_loss: 502.5477 - val_mae: 11.2173\n",
      "Epoch 12/20\n",
      " - 3s - loss: 274.5736 - mae: 7.9207 - val_loss: 495.9657 - val_mae: 11.2910\n",
      "Epoch 13/20\n",
      " - 3s - loss: 273.3365 - mae: 7.9214 - val_loss: 494.7787 - val_mae: 11.2581\n",
      "Epoch 14/20\n",
      " - 3s - loss: 272.1406 - mae: 7.8713 - val_loss: 489.4657 - val_mae: 11.2372\n",
      "Epoch 15/20\n",
      " - 4s - loss: 271.1395 - mae: 7.8344 - val_loss: 490.3969 - val_mae: 11.1372\n",
      "Epoch 16/20\n",
      " - 4s - loss: 270.0353 - mae: 7.8303 - val_loss: 490.4289 - val_mae: 11.0604\n",
      "Epoch 17/20\n",
      " - 4s - loss: 268.5721 - mae: 7.7564 - val_loss: 485.6915 - val_mae: 11.0731\n",
      "Epoch 18/20\n",
      " - 4s - loss: 267.4957 - mae: 7.7404 - val_loss: 483.5396 - val_mae: 11.0586\n",
      "Epoch 19/20\n",
      " - 3s - loss: 266.5113 - mae: 7.6885 - val_loss: 479.5812 - val_mae: 11.0904\n",
      "Epoch 20/20\n",
      " - 4s - loss: 265.3414 - mae: 7.6620 - val_loss: 479.6669 - val_mae: 10.9498\n"
     ]
    }
   ],
   "source": [
    "hist = model.fit(\n",
    "    X_train, Y_train,\n",
    "    batch_size=128,\n",
    "    validation_split=0.2,\n",
    "    epochs=20000,\n",
    "    verbose=2,\n",
    "    callbacks=[es, mc])"
   ]
  },
  {
   "cell_type": "code",
   "execution_count": 31,
   "metadata": {},
   "outputs": [],
   "source": [
    "import matplotlib.pyplot as plt"
   ]
  },
  {
   "cell_type": "code",
   "execution_count": 32,
   "metadata": {},
   "outputs": [
    {
     "data": {
      "image/png": "[encoded data removed]",
      "text/plain": [
       "<Figure size 432x288 with 1 Axes>"
      ]
     },
     "metadata": {
      "needs_background": "light"
     },
     "output_type": "display_data"
    }
   ],
   "source": [
    "plt.plot(hist.history['loss'], 'y', label='train_loss')\n",
    "plt.plot(hist.history['val_loss'], 'r', label='val_loss')\n",
    "plt.xlabel('epochs')\n",
    "plt.ylabel('loss')\n",
    "plt.legend(loc='upper left')\n",
    "plt.show()"
   ]
  },
  {
   "cell_type": "code",
   "execution_count": null,
   "metadata": {},
   "outputs": [],
   "source": []
  },
  {
   "cell_type": "code",
   "execution_count": 33,
   "metadata": {},
   "outputs": [
    {
     "name": "stdout",
     "output_type": "stream",
     "text": [
      "4380/4380 [==============================] - 0s 63us/step\n"
     ]
    }
   ],
   "source": [
    "loss, mae = model.evaluate(X_test, Y_test)"
   ]
  },
  {
   "cell_type": "code",
   "execution_count": null,
   "metadata": {},
   "outputs": [],
   "source": []
  },
  {
   "cell_type": "code",
   "execution_count": 34,
   "metadata": {},
   "outputs": [
    {
     "name": "stdout",
     "output_type": "stream",
     "text": [
      "258.3207188715129 6.5550689697265625\n"
     ]
    }
   ],
   "source": [
    "print(loss, mae)"
   ]
  },
  {
   "cell_type": "code",
   "execution_count": 35,
   "metadata": {},
   "outputs": [],
   "source": [
    "from random import randint"
   ]
  },
  {
   "cell_type": "code",
   "execution_count": 36,
   "metadata": {},
   "outputs": [],
   "source": [
    "N = 1000"
   ]
  },
  {
   "cell_type": "code",
   "execution_count": 37,
   "metadata": {},
   "outputs": [],
   "source": [
    "samples = [randint(0, len(X_test)-1) for _ in range(N)]"
   ]
  },
  {
   "cell_type": "code",
   "execution_count": null,
   "metadata": {},
   "outputs": [],
   "source": []
  },
  {
   "cell_type": "code",
   "execution_count": null,
   "metadata": {},
   "outputs": [],
   "source": []
  },
  {
   "cell_type": "code",
   "execution_count": 38,
   "metadata": {},
   "outputs": [],
   "source": [
    "pred = model.predict([X_test[samples]])"
   ]
  },
  {
   "cell_type": "code",
   "execution_count": 39,
   "metadata": {},
   "outputs": [],
   "source": [
    "pred = pred.reshape(-1)"
   ]
  },
  {
   "cell_type": "code",
   "execution_count": null,
   "metadata": {},
   "outputs": [],
   "source": []
  },
  {
   "cell_type": "code",
   "execution_count": null,
   "metadata": {},
   "outputs": [],
   "source": []
  },
  {
   "cell_type": "code",
   "execution_count": 40,
   "metadata": {},
   "outputs": [],
   "source": [
    "real = Y_test[samples]"
   ]
  },
  {
   "cell_type": "code",
   "execution_count": 41,
   "metadata": {},
   "outputs": [],
   "source": [
    "real = real.reshape(-1)"
   ]
  },
  {
   "cell_type": "code",
   "execution_count": null,
   "metadata": {},
   "outputs": [],
   "source": []
  },
  {
   "cell_type": "code",
   "execution_count": 42,
   "metadata": {},
   "outputs": [],
   "source": [
    "# \"\"\"norm\"\"\""
   ]
  },
  {
   "cell_type": "code",
   "execution_count": 43,
   "metadata": {},
   "outputs": [],
   "source": [
    "# pred = pred * (max_rain - min_rain) + min_rain"
   ]
  },
  {
   "cell_type": "code",
   "execution_count": 44,
   "metadata": {},
   "outputs": [],
   "source": [
    "# real = real * (max_rain - min_rain) + min_rain"
   ]
  },
  {
   "cell_type": "code",
   "execution_count": null,
   "metadata": {},
   "outputs": [],
   "source": []
  },
  {
   "cell_type": "code",
   "execution_count": null,
   "metadata": {},
   "outputs": [],
   "source": []
  },
  {
   "cell_type": "code",
   "execution_count": 45,
   "metadata": {},
   "outputs": [
    {
     "data": {
      "text/plain": [
       "array([2.06388054e+01, 2.01332068e+00, 3.64078617e+00, 0.00000000e+00,\n",
       "       9.67289448e-01, 1.08983669e+01, 4.42302048e-01, 3.94781733e+00,\n",
       "       2.62088633e+00, 2.13427544e+00, 3.36730957e+00, 1.91523242e+00,\n",
       "       0.00000000e+00, 3.25307965e-01, 4.91571474e+00, 0.00000000e+00,\n",
       "       2.93076611e+00, 2.38474512e+00, 4.87482834e+00, 6.02747345e+00,\n",
       "       0.00000000e+00, 2.41743565e+00, 2.48297272e+01, 1.00766544e+01,\n",
       "       2.78030181e+00, 3.85016084e+00, 1.48366606e+00, 2.20399213e+00,\n",
       "       1.18946397e+00, 1.08661251e+01, 7.46028852e+00, 0.00000000e+00,\n",
       "       9.67448950e-01, 0.00000000e+00, 1.14073467e+00, 7.16035843e+00,\n",
       "       5.04137158e-01, 3.45261955e+00, 1.12498260e+00, 2.67474480e+01,\n",
       "       1.34048576e+01, 2.97743678e+00, 3.60670495e+00, 0.00000000e+00,\n",
       "       0.00000000e+00, 2.38474512e+00, 3.78506732e+00, 5.70572710e+00,\n",
       "       1.44825327e+00, 6.66316032e-01, 0.00000000e+00, 1.79551296e+01,\n",
       "       4.92577934e+00, 1.52315159e+01, 2.58536577e+00, 1.26113987e+01,\n",
       "       0.00000000e+00, 1.34172554e+01, 1.11866570e+00, 0.00000000e+00,\n",
       "       0.00000000e+00, 0.00000000e+00, 5.24941730e+00, 7.60905886e+00,\n",
       "       6.97376204e+00, 0.00000000e+00, 3.57881021e+00, 6.02747345e+00,\n",
       "       5.10091209e+00, 0.00000000e+00, 1.14295521e+01, 2.48559093e+01,\n",
       "       4.53658295e+00, 1.17293625e+01, 2.29089284e+00, 1.48901005e+01,\n",
       "       6.53784561e+00, 0.00000000e+00, 0.00000000e+00, 2.03436041e+00,\n",
       "       1.09041548e+00, 4.26093578e+00, 1.83886862e+00, 0.00000000e+00,\n",
       "       4.57356262e+00, 4.25219059e+00, 0.00000000e+00, 1.07333889e+01,\n",
       "       6.75925303e+00, 7.87245631e-01, 0.00000000e+00, 1.28226433e+01,\n",
       "       1.18820572e+01, 8.29167080e+00, 2.71677990e+01, 2.66323566e-01,\n",
       "       4.43860054e+00, 9.01674652e+00, 3.53779733e-01, 0.00000000e+00,\n",
       "       1.04955959e+01, 3.00080633e+00, 4.84223008e-01, 3.37244272e-01,\n",
       "       1.64465828e+01, 1.82886543e+01, 4.71516895e+00, 8.11878967e+00,\n",
       "       1.60696089e+00, 0.00000000e+00, 2.21242714e+00, 9.85997391e+00,\n",
       "       7.85375738e+00, 1.47008479e+00, 0.00000000e+00, 2.56688480e+01,\n",
       "       3.45261955e+00, 1.17038321e+00, 2.48263144e+00, 2.48942070e+01,\n",
       "       5.52939653e+00, 0.00000000e+00, 6.74940014e+00, 9.50641060e+00,\n",
       "       8.40073776e+00, 1.46872520e+01, 3.44225812e+00, 3.51705289e+00,\n",
       "       1.02399006e+01, 1.39588509e+01, 5.19705009e+00, 4.48007298e+00,\n",
       "       1.27862227e+00, 2.54417381e+01, 1.96168976e+01, 2.48142052e+01,\n",
       "       3.77113223e-01, 2.02586212e+01, 1.20729465e+01, 7.17546225e-01,\n",
       "       0.00000000e+00, 2.04063950e+01, 2.36322689e+00, 8.80918884e+00,\n",
       "       3.92454576e+00, 2.79131985e+01, 6.97648764e+00, 7.64232397e+00,\n",
       "       4.76638937e+00, 4.36185932e+00, 5.35525703e+00, 0.00000000e+00,\n",
       "       1.43663235e+01, 1.99801292e+01, 1.64663005e+00, 1.05140247e+01,\n",
       "       1.08754480e+00, 7.22328138e+00, 2.63565779e+00, 1.23120651e+01,\n",
       "       9.25854874e+00, 3.23789358e+00, 0.00000000e+00, 0.00000000e+00,\n",
       "       0.00000000e+00, 0.00000000e+00, 1.52445393e+01, 1.09293213e+01,\n",
       "       0.00000000e+00, 3.94384766e+00, 0.00000000e+00, 6.43940878e+00,\n",
       "       7.29513121e+00, 6.32818270e+00, 3.00018835e+00, 2.53395195e+01,\n",
       "       0.00000000e+00, 0.00000000e+00, 0.00000000e+00, 1.38178101e+01,\n",
       "       9.99551773e+00, 1.31300354e+01, 1.89547086e+00, 0.00000000e+00,\n",
       "       9.98929977e-01, 5.00376558e+00, 2.98034430e-01, 7.48321581e+00,\n",
       "       0.00000000e+00, 0.00000000e+00, 1.03389606e+01, 1.37697911e+00,\n",
       "       1.34806461e+01, 0.00000000e+00, 0.00000000e+00, 0.00000000e+00,\n",
       "       2.22205505e+01, 2.92649722e+00, 1.21118736e+01, 7.59284496e-01,\n",
       "       0.00000000e+00, 0.00000000e+00, 0.00000000e+00, 7.52239037e+00,\n",
       "       4.53040981e+00, 1.28994598e+01, 0.00000000e+00, 0.00000000e+00,\n",
       "       1.28233624e+00, 0.00000000e+00, 1.14178848e+01, 0.00000000e+00,\n",
       "       6.53643942e+00, 7.28255892e+00, 3.89812350e+00, 3.35232329e+00,\n",
       "       3.30386734e+00, 2.09381428e+01, 2.95865107e+00, 3.79696560e+00,\n",
       "       5.64142036e+00, 5.63906765e+00, 1.25080192e+00, 0.00000000e+00,\n",
       "       8.35799408e+00, 1.69502139e+00, 1.96317339e+00, 5.80408096e-01,\n",
       "       4.01367044e+00, 0.00000000e+00, 7.85616398e-01, 8.48414040e+00,\n",
       "       4.23728180e+00, 1.18966141e+01, 8.18107319e+00, 2.00402498e+00,\n",
       "       0.00000000e+00, 7.87479305e+00, 3.09356594e+00, 1.50225782e+00,\n",
       "       1.23578072e-01, 0.00000000e+00, 3.95598960e+00, 1.64531174e+01,\n",
       "       8.29756165e+00, 1.74862041e+01, 2.69989347e+00, 1.06444931e+00,\n",
       "       6.46197176e+00, 1.02231598e+01, 9.69437408e+00, 0.00000000e+00,\n",
       "       1.04503498e+01, 8.89274025e+00, 0.00000000e+00, 7.12435293e+00,\n",
       "       0.00000000e+00, 2.74122143e+00, 0.00000000e+00, 4.88789701e+00,\n",
       "       9.67680931e+00, 3.02678347e-01, 9.84314919e+00, 2.00131893e-01,\n",
       "       1.12766209e+01, 6.69017076e-01, 0.00000000e+00, 8.27191925e+00,\n",
       "       1.25636139e+01, 1.03100395e+01, 1.57630997e+01, 5.15116692e-01,\n",
       "       8.98081017e+00, 3.30876017e+00, 0.00000000e+00, 1.31105101e+00,\n",
       "       0.00000000e+00, 0.00000000e+00, 2.13593078e+00, 3.54285431e+00,\n",
       "       6.06613398e-01, 6.79355478e+00, 1.54877586e+01, 1.26190529e+01,\n",
       "       0.00000000e+00, 0.00000000e+00, 5.74552441e+00, 0.00000000e+00,\n",
       "       0.00000000e+00, 1.01868391e-01, 0.00000000e+00, 7.45238638e+00,\n",
       "       4.41935873e+00, 4.42291546e+00, 7.24512053e+00, 0.00000000e+00,\n",
       "       8.27191925e+00, 4.76898146e+00, 0.00000000e+00, 4.89440441e-01,\n",
       "       6.89140081e+00, 0.00000000e+00, 7.71025848e+00, 3.42652678e+00,\n",
       "       8.42147636e+00, 0.00000000e+00, 2.73790884e+00, 6.85728598e+00,\n",
       "       0.00000000e+00, 1.22499104e+01, 3.12006378e+00, 8.38269949e-01,\n",
       "       0.00000000e+00, 3.87041330e-01, 7.71378136e+00, 8.83724403e+00,\n",
       "       2.27136183e+00, 1.09069233e+01, 0.00000000e+00, 3.10870147e+00,\n",
       "       3.48575449e+00, 2.20399213e+00, 1.47743092e+01, 1.74172533e+00,\n",
       "       4.42291546e+00, 4.57356262e+00, 0.00000000e+00, 1.54593430e+01,\n",
       "       5.36272526e+00, 0.00000000e+00, 0.00000000e+00, 0.00000000e+00,\n",
       "       1.22209072e-01, 0.00000000e+00, 5.52300215e+00, 0.00000000e+00,\n",
       "       0.00000000e+00, 3.40837193e+00, 1.02602673e+01, 9.90848923e+00,\n",
       "       1.26293163e+01, 2.17783999e+00, 0.00000000e+00, 0.00000000e+00,\n",
       "       1.20729465e+01, 1.84260273e+00, 2.79505777e+00, 1.70447922e+00,\n",
       "       1.74159107e+01, 1.11740565e+00, 3.60234547e+00, 0.00000000e+00,\n",
       "       2.68842850e+01, 0.00000000e+00, 2.80311537e+00, 7.50429296e+00,\n",
       "       1.49359856e+01, 2.06388054e+01, 5.63957977e+00, 5.89261055e-02,\n",
       "       0.00000000e+00, 7.07244873e-02, 1.71580791e+01, 9.78914833e+00,\n",
       "       2.18504858e+00, 0.00000000e+00, 2.17783999e+00, 0.00000000e+00,\n",
       "       3.55581522e+00, 7.46973276e-01, 0.00000000e+00, 0.00000000e+00,\n",
       "       9.46861458e+00, 2.45941849e+01, 8.06836700e+00, 1.48486233e+01,\n",
       "       2.00131893e-01, 0.00000000e+00, 0.00000000e+00, 0.00000000e+00,\n",
       "       1.97071838e+00, 2.13277206e+01, 2.61953592e-01, 6.61463022e+00,\n",
       "       0.00000000e+00, 5.02368736e+00, 2.35876799e-01, 1.38899231e+01,\n",
       "       0.00000000e+00, 3.46739483e+00, 0.00000000e+00, 0.00000000e+00,\n",
       "       3.53561258e+00, 0.00000000e+00, 0.00000000e+00, 0.00000000e+00,\n",
       "       3.70361567e-01, 4.33488178e+00, 3.17179823e+00, 1.01980629e+01,\n",
       "       7.02512884e+00, 2.28604674e+00, 1.24871635e+00, 0.00000000e+00,\n",
       "       0.00000000e+00, 2.30679035e+00, 2.79480290e+00, 1.61736393e+00,\n",
       "       1.65563703e+00, 8.24932480e+00, 1.37275219e+01, 0.00000000e+00,\n",
       "       2.48559093e+01, 4.56715822e+00, 2.46672630e+00, 1.28523312e+01,\n",
       "       1.30667820e+01, 5.16984653e+00, 2.85869539e-01, 2.35876799e-01,\n",
       "       6.78771019e+00, 4.34770966e+00, 4.91143370e+00, 7.17053270e+00,\n",
       "       0.00000000e+00, 2.57500410e-01, 1.66732621e+00, 1.59036541e+01,\n",
       "       0.00000000e+00, 0.00000000e+00, 6.73810720e-01, 0.00000000e+00,\n",
       "       0.00000000e+00, 3.36730957e+00, 1.33775082e+01, 2.64958992e+01,\n",
       "       2.32347512e+00, 2.34417057e+00, 0.00000000e+00, 0.00000000e+00,\n",
       "       0.00000000e+00, 0.00000000e+00, 0.00000000e+00, 5.76929092e-01,\n",
       "       6.70493937e+00, 0.00000000e+00, 0.00000000e+00, 1.15093288e+01,\n",
       "       8.43345070e+00, 4.54764557e+00, 1.87038684e+00, 4.26638174e+00,\n",
       "       3.02862167e+00, 2.48516121e+01, 0.00000000e+00, 4.51636744e+00,\n",
       "       1.00395527e+01, 0.00000000e+00, 0.00000000e+00, 0.00000000e+00,\n",
       "       2.54233241e-01, 0.00000000e+00, 1.04931030e+01, 1.86286926e+00,\n",
       "       1.61736393e+00, 5.40534353e+00, 4.65190053e-01, 8.99576187e+00,\n",
       "       1.38710709e+01, 0.00000000e+00, 0.00000000e+00, 2.47404137e+01,\n",
       "       3.97115231e-01, 8.04601765e+00, 1.67874184e+01, 0.00000000e+00,\n",
       "       2.22364521e+00, 2.81884689e+01, 1.77418280e+00, 1.00253143e+01,\n",
       "       2.02579498e+00, 1.48486233e+01, 1.09024620e+00, 1.30935135e+01,\n",
       "       2.60635233e+00, 2.61097031e+01, 2.90050077e+00, 0.00000000e+00,\n",
       "       0.00000000e+00, 0.00000000e+00, 3.25763822e+00, 1.18944943e+00,\n",
       "       7.79444647e+00, 0.00000000e+00, 4.41153049e+00, 6.59280109e+00,\n",
       "       0.00000000e+00, 1.02607226e+00, 0.00000000e+00, 0.00000000e+00,\n",
       "       1.43072071e+01, 3.09838581e+00, 0.00000000e+00, 9.36522293e+00,\n",
       "       0.00000000e+00, 2.24693394e+00, 0.00000000e+00, 7.85532951e-01,\n",
       "       8.50874901e+00, 1.06420469e+00, 0.00000000e+00, 2.17607260e+00,\n",
       "       5.18569469e-01, 0.00000000e+00, 0.00000000e+00, 3.78813195e+00,\n",
       "       2.69819403e+00, 1.34048576e+01, 1.32991695e+01, 3.21316695e+00,\n",
       "       4.09519243e+00, 4.33985949e-01, 0.00000000e+00, 3.00072670e-01,\n",
       "       5.33742666e+00, 1.05770264e+01, 1.36710322e+00, 0.00000000e+00,\n",
       "       4.26678705e+00, 1.65475502e+01, 2.17809601e+01, 0.00000000e+00,\n",
       "       0.00000000e+00, 1.22615948e+01, 9.23548698e+00, 2.42853594e+00,\n",
       "       0.00000000e+00, 2.42311358e-02, 1.32991695e+01, 2.01687169e+00,\n",
       "       1.18730140e+00, 5.32591772e+00, 1.58857079e+01, 8.39037323e+00,\n",
       "       7.28196383e+00, 0.00000000e+00, 0.00000000e+00, 2.95938087e+00,\n",
       "       2.43122520e+01, 3.72312212e+00, 4.63525963e+00, 1.36818295e+01,\n",
       "       0.00000000e+00, 1.06444931e+00, 0.00000000e+00, 0.00000000e+00,\n",
       "       3.73990202e+00, 1.05462532e+01, 9.53645134e+00, 2.33716083e+00,\n",
       "       1.08754480e+00, 1.18730140e+00, 7.97975421e-01, 2.45967054e+00,\n",
       "       1.34797516e+01, 2.17697067e+01, 1.75805855e+00, 8.50474262e+00,\n",
       "       4.90630150e+00, 1.48182831e+01, 5.05564690e+00, 0.00000000e+00,\n",
       "       0.00000000e+00, 1.25001335e+00, 8.27996254e+00, 2.30474615e+00,\n",
       "       0.00000000e+00, 3.09778905e+00, 4.10485983e+00, 2.03162861e+00,\n",
       "       0.00000000e+00, 8.32922840e+00, 2.64568825e+01, 0.00000000e+00,\n",
       "       4.37000227e+00, 3.04304361e+00, 5.52300215e+00, 0.00000000e+00,\n",
       "       5.54709244e+00, 0.00000000e+00, 1.33158054e+01, 7.63008070e+00,\n",
       "       1.54189110e-01, 1.07472954e+01, 8.24250221e+00, 2.39316034e+00,\n",
       "       2.51137428e+01, 9.15477562e+00, 0.00000000e+00, 0.00000000e+00,\n",
       "       1.26797409e+01, 3.87536669e+00, 8.18943024e+00, 1.28226433e+01,\n",
       "       2.49190788e+01, 2.85052037e+00, 5.65856886e+00, 4.50918913e-01,\n",
       "       5.00376558e+00, 5.63478470e+00, 3.90166807e+00, 1.52553349e+01,\n",
       "       3.00806022e+00, 5.39907646e+00, 4.23277760e+00, 2.70993662e+00,\n",
       "       1.72679615e+00, 4.87387371e+00, 5.64207315e+00, 7.44063616e-01,\n",
       "       3.17445803e+00, 4.74858570e+00, 2.36322689e+00, 4.36597919e+00,\n",
       "       1.39915276e+00, 0.00000000e+00, 1.37475204e+01, 6.54686785e+00,\n",
       "       2.12425661e+00, 0.00000000e+00, 1.62690353e+01, 2.37644482e+00,\n",
       "       2.57438927e+01, 7.78864241e+00, 4.53575611e+00, 1.99251080e+00,\n",
       "       1.50865631e+01, 1.60411816e+01, 2.93682957e+00, 0.00000000e+00,\n",
       "       9.61392403e+00, 7.01110888e+00, 6.04543257e+00, 2.64076653e+01,\n",
       "       0.00000000e+00, 0.00000000e+00, 2.22455740e+00, 2.09908724e+00,\n",
       "       0.00000000e+00, 0.00000000e+00, 2.18049431e+01, 3.37244272e-01,\n",
       "       0.00000000e+00, 2.02426314e+00, 2.47004032e-01, 0.00000000e+00,\n",
       "       2.65373755e+00, 0.00000000e+00, 0.00000000e+00, 1.71856833e+00,\n",
       "       6.91985309e-01, 2.00289955e+01, 4.59269285e-02, 5.64142036e+00,\n",
       "       0.00000000e+00, 7.06238270e+00, 1.09542608e+00, 7.12293768e+00,\n",
       "       2.79691267e+00, 7.45238638e+00, 3.73773336e+00, 7.78957367e+00,\n",
       "       0.00000000e+00, 8.50474262e+00, 1.24475975e+01, 0.00000000e+00,\n",
       "       2.34731674e+01, 8.32262456e-01, 2.68576574e+00, 1.07319698e+01,\n",
       "       7.46122313e+00, 5.84597921e+00, 0.00000000e+00, 5.21569681e+00,\n",
       "       2.67078185e+00, 0.00000000e+00, 4.20728827e+00, 1.25039082e+01,\n",
       "       1.18711929e+01, 1.09293213e+01, 5.31310320e+00, 3.67707014e+00,\n",
       "       7.85264540e+00, 1.47764645e+01, 0.00000000e+00, 9.12340164e+00,\n",
       "       0.00000000e+00, 0.00000000e+00, 2.93076611e+00, 1.71046162e+01,\n",
       "       5.51029062e+00, 5.23775291e+00, 1.84156144e+00, 3.46345973e+00,\n",
       "       1.16907673e+01, 3.26996136e+00, 2.88480663e+00, 4.45700884e+00,\n",
       "       0.00000000e+00, 2.15905342e+01, 1.51592522e+01, 0.00000000e+00,\n",
       "       3.37070847e+00, 1.37046013e+01, 7.70943594e+00, 0.00000000e+00,\n",
       "       0.00000000e+00, 0.00000000e+00, 6.94621706e+00, 6.79355478e+00,\n",
       "       1.55692804e+00, 5.67410135e+00, 3.59089851e+00, 0.00000000e+00,\n",
       "       1.32233181e+01, 6.73977757e+00, 3.10420775e+00, 0.00000000e+00,\n",
       "       2.61827207e+00, 5.52215385e+00, 0.00000000e+00, 1.01068115e+00,\n",
       "       6.87201023e-02, 1.18711929e+01, 1.16648483e+01, 1.06401997e+01,\n",
       "       1.31217384e+01, 1.21237984e+01, 2.53724098e+00, 4.90630150e+00,\n",
       "       2.48142052e+01, 0.00000000e+00, 1.12190819e+01, 6.81701064e-01,\n",
       "       0.00000000e+00, 8.83454204e-01, 0.00000000e+00, 2.68291664e+00,\n",
       "       1.05554943e+01, 9.14646530e+00, 3.04944992e+00, 1.49130116e+01,\n",
       "       0.00000000e+00, 9.77581501e-01, 6.42983723e+00, 1.28731956e+01,\n",
       "       1.81385219e+00, 0.00000000e+00, 1.29840767e+00, 0.00000000e+00,\n",
       "       8.81928253e+00, 7.21946239e+00, 1.41621475e+01, 7.98138952e+00,\n",
       "       3.00018358e+00, 7.34396315e+00, 3.83764887e+00, 2.39245987e+00,\n",
       "       0.00000000e+00, 0.00000000e+00, 0.00000000e+00, 1.05930543e+00,\n",
       "       2.81810808e+00, 1.14955940e+01, 6.89669085e+00, 5.11634111e-01,\n",
       "       1.91582718e+01, 0.00000000e+00, 1.53734004e+00, 1.84343929e+01,\n",
       "       2.29089284e+00, 7.43330574e+00, 0.00000000e+00, 8.81224060e+00,\n",
       "       1.12009888e+01, 1.74172533e+00, 5.76929092e-01, 1.95471025e+00,\n",
       "       1.29142380e+01, 3.85295421e-01, 1.99528456e+00, 0.00000000e+00,\n",
       "       8.10828781e+00, 4.26276445e-01, 4.63354111e-01, 5.14399195e+00,\n",
       "       5.30623055e+00, 3.82208729e+00, 9.98929501e-01, 2.67726898e+01,\n",
       "       8.05172563e-01, 1.49359856e+01, 5.61270714e-02, 2.02398586e+00,\n",
       "       3.38902903e+00, 0.00000000e+00, 0.00000000e+00, 5.56279516e+00,\n",
       "       3.47140074e-01, 9.85376358e+00, 0.00000000e+00, 7.00466299e+00,\n",
       "       0.00000000e+00, 8.24734879e+00, 5.30623055e+00, 9.23787832e-01,\n",
       "       5.31813478e+00, 9.66555214e+00, 1.47837412e+00, 9.06555533e-01,\n",
       "       0.00000000e+00, 8.63783836e+00, 1.24551334e+01, 1.99611664e+01,\n",
       "       0.00000000e+00, 2.32986031e+01, 0.00000000e+00, 2.00813794e+00,\n",
       "       3.64667320e+00, 0.00000000e+00, 0.00000000e+00, 5.68260717e+00,\n",
       "       7.05421495e+00, 3.59089851e+00, 1.37475204e+01, 5.49041176e+00,\n",
       "       0.00000000e+00, 2.12425661e+00, 0.00000000e+00, 5.18517447e+00,\n",
       "       1.82872620e+01, 8.05602789e-01, 0.00000000e+00, 0.00000000e+00,\n",
       "       4.48073983e-01, 6.83362961e-01, 5.45750952e+00, 9.06311607e+00,\n",
       "       0.00000000e+00, 3.26680493e+00, 7.31230450e+00, 2.67078185e+00,\n",
       "       8.19555569e+00, 1.89631045e+00, 2.01332068e+00, 2.13593078e+00,\n",
       "       2.61030540e+01, 1.74815500e+00, 5.05777168e+00, 1.89276581e+01,\n",
       "       1.35370140e+01, 0.00000000e+00, 9.56455612e+00, 1.17077618e+01,\n",
       "       6.68064022e+00, 6.29614592e-01, 5.77344942e+00, 4.59073114e+00,\n",
       "       0.00000000e+00, 1.96168976e+01, 0.00000000e+00, 8.77892971e-01,\n",
       "       7.70943594e+00, 1.39047794e+01, 3.37244272e-01, 7.69262552e+00,\n",
       "       8.76142502e+00, 3.56854916e-01, 1.44186795e+00, 0.00000000e+00,\n",
       "       4.64140081e+00, 0.00000000e+00, 1.17930746e+00, 1.00820122e+01,\n",
       "       0.00000000e+00, 9.57037926e+00, 2.15532184e+00, 0.00000000e+00,\n",
       "       1.42943096e+01, 8.62535238e-01, 1.37173138e+01, 8.07345963e+00,\n",
       "       0.00000000e+00, 2.40268636e+00, 5.19704771e+00, 5.57992363e+00,\n",
       "       0.00000000e+00, 5.53967285e+00, 7.89894164e-01, 0.00000000e+00,\n",
       "       0.00000000e+00, 0.00000000e+00, 0.00000000e+00, 8.27178955e+00,\n",
       "       1.76519890e+01, 5.10036755e+00, 1.14733410e+01, 1.31709938e+01,\n",
       "       2.80311537e+00, 1.14295521e+01, 0.00000000e+00, 3.38868928e+00,\n",
       "       2.70388737e+01, 1.00093651e+01, 4.79467344e+00, 2.71607471e+00,\n",
       "       1.27739239e+01, 0.00000000e+00, 2.78382339e+01, 1.34387627e+01,\n",
       "       1.36259556e+01, 4.15588760e+00, 0.00000000e+00, 0.00000000e+00,\n",
       "       1.48966575e+00, 2.68291664e+00, 7.21947050e+00, 0.00000000e+00,\n",
       "       3.66006494e+00, 1.39570808e+00, 6.83682919e-01, 0.00000000e+00,\n",
       "       5.88986397e+00, 1.17038321e+00, 2.24344826e+00, 1.62690353e+01,\n",
       "       2.16404295e+00, 1.75805855e+00, 8.02281618e-01, 8.86737347e-01,\n",
       "       1.99849815e+01, 4.07357311e+00, 1.00059032e+01, 2.93800879e+00,\n",
       "       0.00000000e+00, 2.65605593e+00, 4.66490316e+00, 5.64605284e+00,\n",
       "       0.00000000e+00, 4.97753620e-01, 1.17736950e+01, 0.00000000e+00,\n",
       "       2.53838882e+01, 1.25320015e+01, 7.83083677e+00, 0.00000000e+00,\n",
       "       1.54689407e+01, 1.48572903e+01, 1.12009907e+01, 0.00000000e+00,\n",
       "       1.11442876e+00, 8.15002823e+00, 1.16621232e+00, 1.02645588e+01,\n",
       "       7.95336866e+00, 0.00000000e+00, 0.00000000e+00, 6.70826340e+00,\n",
       "       0.00000000e+00, 1.98302984e+00, 0.00000000e+00, 1.40020847e+01,\n",
       "       2.97743678e+00, 2.01687169e+00, 0.00000000e+00, 5.80408096e-01,\n",
       "       1.21237984e+01, 6.30709171e+00, 2.56492281e+00, 6.21282434e+00,\n",
       "       1.10917301e+01, 0.00000000e+00, 0.00000000e+00, 1.36259556e+01,\n",
       "       1.65025568e+00, 2.50848007e+00, 2.56949539e+01, 1.73790226e+01,\n",
       "       2.64752769e+00, 2.09684420e+00, 1.51928675e+00, 9.98189163e+00,\n",
       "       7.69262552e+00, 6.50832462e+00, 7.88759422e+00, 0.00000000e+00,\n",
       "       0.00000000e+00, 8.23780060e+00, 1.03423929e+00, 4.71516848e+00],\n",
       "      dtype=float32)"
      ]
     },
     "execution_count": 45,
     "metadata": {},
     "output_type": "execute_result"
    }
   ],
   "source": [
    "pred"
   ]
  },
  {
   "cell_type": "code",
   "execution_count": 46,
   "metadata": {},
   "outputs": [
    {
     "data": {
      "text/plain": [
       "array([9.6, 0, 7.8, 0.1, 0, 0, 1.7, 0, 0, 1.4, 0, 57.4, 0, 0.6, 0, 0, 0,\n",
       "       0, 0, 0, 0.5, 0, 68.5, 0, 0, 0, 0, 0, 0, 1.1, 0, 0, 0, 0, 0, 21.7,\n",
       "       0, 0, 0, 17.3, 0, 0, 0, 0, 0, 0, 0, 0, 0, 0.1, 0, 3, 0, 7.5, 0, 0,\n",
       "       10.5, 101.4, 0, 0, 0, 1.2, 0, 0, 0, 0, 0, 0, 0, 0, 0, 0, 0.2, 9, 0,\n",
       "       0, 0, 0.9, 2.5, 0.8, 0, 28, 0, 0.7, 0, 0, 0, 0, 12.4, 3.4, 1.6,\n",
       "       74.3, 1.5, 0, 1.4, 0, 0, 0, 0, 0, 0, 43.6, 0, 0, 0, 0, 0, 0, 0, 0,\n",
       "       0.2, 0, 16.6, 3.5, 0, 6.1, 0, 0.3, 0, 0, 0, 0, 0, 0, 0, 0, 0.7,\n",
       "       0.1, 0, 14.7, 0, 0, 0, 44.1, 11.5, 0, 0, 18.8, 5.2, 0, 0.1, 0, 0,\n",
       "       0, 17.8, 268.2, 0.2, 6.4, 0, 0, 0, 0, 0, 0.2, 0, 0, 0, 1.6, 0, 0.1,\n",
       "       0, 0, 0, 0, 0, 4.4, 8.5, 12.5, 0, 1, 0.2, 0, 0, 0, 0, 36, 0, 0, 0,\n",
       "       0, 0, 0, 4, 0, 20, 0, 0, 0.1, 0.8, 0, 0, 1.2, 0, 0, 0, 0, 97.6, 0,\n",
       "       21.9, 0.3, 0, 0.7, 0, 0, 0, 0, 0.1, 0, 0.4, 0, 9.6, 0, 1.2, 0, 0,\n",
       "       0, 95.4, 1, 0, 7.9, 4, 14.1, 0, 0.7, 0, 0, 0, 0, 0, 0, 0, 0, 0,\n",
       "       0.1, 0, 0.9, 0, 0, 0, 0, 0, 0, 1.4, 0, 0, 0, 0, 0, 0.1, 0, 1.8, 0,\n",
       "       0, 0, 0, 6.5, 2.8, 0, 0.1, 8.2, 0, 0, 77.7, 0, 0, 0, 2.5, 10, 0, 0,\n",
       "       0, 0.5, 0, 0, 0, 0, 0.7, 0, 0, 0, 0, 0, 0, 0.5, 0.4, 0, 3.5, 18.8,\n",
       "       0, 0, 0, 26.8, 4.8, 0, 12, 0, 10, 0, 0, 0, 0.1, 0, 0, 0, 0, 18.8,\n",
       "       0, 0, 0, 2.3, 0, 0, 0, 0, 13.4, 0, 0, 0, 0, 0, 5.6, 0, 20.9, 1.5,\n",
       "       0, 0, 2.4, 0, 0, 0, 0, 0, 0, 0, 0, 17.1, 0, 7.2, 0, 4.2, 0, 0, 0,\n",
       "       0, 5.2, 0, 0, 0, 1.1, 0, 0, 0, 177, 0, 0, 0.2, 0, 9.6, 0, 0, 0, 0,\n",
       "       0, 1.4, 0, 0, 0, 0, 0, 0, 0, 3.7, 0, 0, 2, 0, 0, 0, 1, 0, 0, 7, 0,\n",
       "       11.7, 0, 0, 0, 0, 0, 0, 0, 0.4, 7.6, 0, 0, 0, 0, 0.8, 6.3, 0.5, 0,\n",
       "       0, 0, 0, 0, 0, 0, 0, 0, 0, 0.1, 0, 0, 0.2, 2.6, 0, 0, 0, 2, 0, 0,\n",
       "       0, 0, 1, 0, 0, 0, 1, 0.2, 0.5, 0, 0, 0, 0, 1.8, 0, 9.5, 0, 0, 0,\n",
       "       11.2, 0, 0, 0, 0, 0, 0, 0, 1.5, 8.5, 0, 0, 1.8, 13, 0, 3.5, 0, 0,\n",
       "       0, 11.2, 0, 0, 0, 0, 0, 27, 0, 0.7, 0, 0, 0, 2.3, 0, 0, 0, 0, 0,\n",
       "       45.5, 0, 9.2, 45, 0, 21.5, 9.7, 0, 0, 0, 0, 0, 0, 0.4, 0, 18.1, 0,\n",
       "       0, 1.2, 0.2, 27, 0, 3.9, 0, 0, 0, 42.7, 0, 0, 0, 14.8, 0, 0, 0, 0,\n",
       "       0, 0, 0, 0.1, 0, 0, 0, 0, 0, 0, 0, 0, 1, 0.5, 0.5, 0, 0, 0, 3.2, 0,\n",
       "       0, 0, 0.9, 0, 3, 0, 0, 0, 0, 19, 26.6, 0, 0, 0.9, 0, 0, 0.4, 0, 0,\n",
       "       0, 0.1, 0, 0, 0, 0, 0, 0, 0, 0, 0, 0.6, 0, 0, 0.9, 0, 0, 0, 29.5,\n",
       "       4.4, 0, 0, 0, 1, 1.6, 0, 4.5, 0, 0, 0, 0, 0, 0, 0, 0, 0, 0, 0, 0,\n",
       "       6.5, 0, 1, 0, 0, 0, 0, 0, 0.1, 0, 0, 7.5, 1.1, 74.3, 0, 0, 0, 0, 0,\n",
       "       1.5, 0, 2, 0, 4.1, 0, 0, 0, 0, 8.7, 0, 0, 0.5, 0, 0, 9.5, 0, 92.8,\n",
       "       19, 0, 0, 3.5, 0, 21.2, 25, 0, 0, 44.5, 69.5, 0, 0, 0, 0, 0, 0, 0,\n",
       "       0, 0, 0, 0, 0, 37, 0, 1.4, 0, 0, 0, 0, 0, 0, 0, 3.4, 0, 0, 4, 0,\n",
       "       12.5, 4.5, 18.1, 0, 26.8, 0, 0, 0, 0, 0, 0, 75.5, 0, 1.3, 0, 0, 2,\n",
       "       8, 0, 0, 0, 0, 0, 0, 12.5, 0, 0, 0, 76, 0, 0, 0, 0, 0, 14.2, 4.6,\n",
       "       6.5, 0, 0, 0, 2.6, 0, 0, 0, 151.5, 0.5, 0, 0, 0, 0, 2.1, 0, 0, 7.2,\n",
       "       0, 0, 0, 5.2, 3.5, 3, 0, 0, 0, 0, 0, 0.3, 0.5, 0, 0, 0, 0, 144.9,\n",
       "       0, 5.4, 0, 0, 0, 36.5, 0, 0, 0.7, 0, 0, 1.2, 6.5, 13, 0, 0, 2.6, 0,\n",
       "       0, 0, 0, 0, 0, 29, 8.8, 7.2, 0.2, 1.3, 0, 0, 0.3, 0, 0, 0, 0, 0.8,\n",
       "       22.3, 0, 0, 0, 0, 0, 0.5, 0, 8, 0, 0, 9.5, 1.5, 0, 0, 1, 0, 0, 0,\n",
       "       0, 1.2, 0, 0, 0, 0, 20, 29.7, 0, 0, 0, 0, 7, 0, 0, 0, 0, 0, 0, 0,\n",
       "       0, 5, 0, 0, 0, 0, 0, 0, 0, 7.7, 2, 0.5, 0.2, 2.5, 0, 0, 0, 0, 0, 0,\n",
       "       0, 5.2, 92.8, 39.5, 0, 0, 0, 9.9, 0, 0, 0.2, 0, 3.6, 0, 0, 0, 0, 0,\n",
       "       15.3, 0, 0, 0, 0, 0, 9.8, 0, 5.9, 0, 12.9, 0, 18.4, 0, 0, 0, 0, 0,\n",
       "       0, 11.5, 0, 0, 0, 13.4, 0, 6.5, 0, 0, 0, 0, 0.8, 0, 0, 0, 0, 0, 0,\n",
       "       0.4, 0, 0, 0, 5.2, 0, 0, 0, 0, 0, 0, 9.7, 0, 0, 0, 0, 0, 13.3, 0,\n",
       "       0, 9.1, 0, 0, 0, 5, 273.4, 2.2, 0, 0, 0.5, 0, 8.5, 0, 16, 7.8, 0.7,\n",
       "       0, 0, 0, 8.8, 0, 0, 0, 0, 0, 0, 0.3, 0, 3.5, 0, 0, 0, 0, 13.8, 0,\n",
       "       0, 12.9, 0, 44, 0, 0, 0, 0, 0, 0.4, 2.5, 11.7, 8, 0, 50.6, 5, 9.5,\n",
       "       0, 0, 47.7, 0, 21.3, 1, 0, 0, 0, 0, 0, 0, 29, 0, 0, 5.7, 0, 0, 5.1,\n",
       "       0, 0, 0, 0, 0, 16, 2.2, 0, 9.5, 0, 0, 0, 6.2, 0.4, 6.5, 7.5, 0,\n",
       "       6.6, 0, 0, 0, 0], dtype=object)"
      ]
     },
     "execution_count": 46,
     "metadata": {},
     "output_type": "execute_result"
    }
   ],
   "source": [
    "real"
   ]
  },
  {
   "cell_type": "code",
   "execution_count": 47,
   "metadata": {},
   "outputs": [],
   "source": [
    "res = np.abs(pred - real)"
   ]
  },
  {
   "cell_type": "code",
   "execution_count": 48,
   "metadata": {
    "scrolled": true
   },
   "outputs": [
    {
     "name": "stdout",
     "output_type": "stream",
     "text": [
      "6.763488874906299 246.36112632751463 0.0\n"
     ]
    }
   ],
   "source": [
    "print(np.mean(res), np.max(res), np.min(res))"
   ]
  },
  {
   "cell_type": "code",
   "execution_count": null,
   "metadata": {},
   "outputs": [],
   "source": []
  },
  {
   "cell_type": "code",
   "execution_count": null,
   "metadata": {},
   "outputs": [],
   "source": []
  },
  {
   "cell_type": "code",
   "execution_count": null,
   "metadata": {},
   "outputs": [],
   "source": []
  }
 ],
 "metadata": {
  "kernelspec": {
   "display_name": "Python 3",
   "language": "python",
   "name": "python3"
  },
  "language_info": {
   "codemirror_mode": {
    "name": "ipython",
    "version": 3
   },
   "file_extension": ".py",
   "mimetype": "text/x-python",
   "name": "python",
   "nbconvert_exporter": "python",
   "pygments_lexer": "ipython3",
   "version": "3.7.6"
  }
 },
 "nbformat": 4,
 "nbformat_minor": 4
}
